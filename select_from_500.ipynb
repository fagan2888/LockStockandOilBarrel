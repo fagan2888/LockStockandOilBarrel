{
 "cells": [
  {
   "cell_type": "code",
   "execution_count": 1,
   "metadata": {},
   "outputs": [],
   "source": [
    "import os\n",
    "import numpy as np\n",
    "import pandas as pd\n",
    "import matplotlib.pyplot as plt\n"
   ]
  },
  {
   "cell_type": "code",
   "execution_count": 2,
   "metadata": {},
   "outputs": [
    {
     "name": "stdout",
     "output_type": "stream",
     "text": [
      "Type your favorite stock and press return:  aapl\n",
      "AAPL\n"
     ]
    }
   ],
   "source": [
    "#read user stock input\n",
    "favor_stock = input(\"Type your favorite stock and press return:  \")\n",
    "favor_stock=favor_stock.upper()\n",
    "print (favor_stock)"
   ]
  },
  {
   "cell_type": "code",
   "execution_count": 3,
   "metadata": {},
   "outputs": [
    {
     "name": "stdout",
     "output_type": "stream",
     "text": [
      "corr2 head:\n",
      "           PCA1      PCA2      PCA3      PCA4      PCA5\n",
      "MMM   0.987235 -0.095806  0.055962 -0.039496  0.016730\n",
      "ABT   0.965670  0.062359  0.063589  0.109156  0.124772\n",
      "ACN   0.975498 -0.074403  0.158498 -0.050076 -0.018694\n",
      "ATVI  0.871687 -0.435483  0.066469 -0.108992  0.064664\n",
      "AYI   0.918923 -0.114110  0.156262  0.204377 -0.166625\n"
     ]
    }
   ],
   "source": [
    "corr2 = pd.read_csv(os.path.join('data2','pca500-components.csv'),index_col=0)\n",
    "\n",
    "print(\"corr2 head:\\n\",corr2.head())\n"
   ]
  },
  {
   "cell_type": "code",
   "execution_count": 4,
   "metadata": {},
   "outputs": [
    {
     "name": "stdout",
     "output_type": "stream",
     "text": [
      "pointA: [[ 0.95310459  0.02235755]]\n",
      "           PCA1      PCA2      PCA3      PCA4      PCA5  Distance\n",
      "APA   -0.639347  0.259524 -0.531898 -0.323917 -0.263473  1.610015\n",
      "CHK   -0.589443  0.245435 -0.717297 -0.027842 -0.046916  1.558594\n",
      "NEM   -0.552846 -0.167523  0.012832 -0.602370 -0.381328  1.517874\n",
      "FCX   -0.508427  0.416629 -0.564571 -0.386398 -0.227312  1.513778\n",
      "DVN   -0.533611  0.201010 -0.731674 -0.035740 -0.165281  1.497411\n",
      "MOS   -0.510461  0.116095 -0.681626 -0.027476 -0.264971  1.466564\n",
      "RRC   -0.177889  0.842170 -0.314208 -0.062877  0.178443  1.396867\n",
      "EXC   -0.217881 -0.550922 -0.682555  0.114160 -0.064291  1.303786\n",
      "NFX   -0.289013 -0.146673 -0.402058 -0.262463 -0.709214  1.253566\n",
      "MRO    0.004617  0.835073 -0.470225 -0.113130  0.103871  1.249054\n",
      "ARNC  -0.191586 -0.230873 -0.891012  0.151004 -0.183586  1.172366\n",
      "NOV    0.048224  0.764688 -0.509564 -0.238656 -0.085752  1.170412\n",
      "AIG   -0.159604 -0.314622 -0.787398  0.251577 -0.090070  1.162616\n",
      "C     -0.138571 -0.376011 -0.801892  0.261971 -0.011473  1.162090\n",
      "NRG   -0.188108  0.139262 -0.847823  0.111422  0.308144  1.147185\n",
      "FE    -0.153990 -0.133851 -0.584717  0.164719 -0.087003  1.118061\n",
      "NBL    0.224762  0.860362 -0.322783 -0.125140  0.129939  1.110286\n",
      "LUK   -0.152742 -0.062458 -0.909006 -0.110520 -0.102954  1.109094\n",
      "HPQ    0.034811 -0.594821 -0.444281 -0.097389 -0.035268  1.106423\n",
      "APC    0.245718  0.826524 -0.355861 -0.122498 -0.041708  1.071018\n",
      "HES   -0.053444  0.367329 -0.803800  0.135570 -0.064888  1.064023\n",
      "RL     0.345669  0.876477  0.044198 -0.168844 -0.024184  1.048092\n",
      "AMD    0.157628 -0.546601 -0.264420 -0.672061 -0.112660  0.978006\n",
      "FLR    0.130476  0.515796 -0.720104 -0.072122 -0.083163  0.959270\n",
      "FTI    0.421220  0.816399 -0.176391 -0.266608 -0.018431  0.955721\n",
      "VIAB   0.490234  0.805429 -0.231631  0.047054  0.106052  0.909643\n",
      "BAC    0.219607 -0.514015 -0.762437  0.170845  0.085302  0.908688\n",
      "OXY    0.413671  0.693134 -0.168428 -0.316196 -0.321416  0.860773\n",
      "JEC    0.115594 -0.164183 -0.869333  0.024927  0.112856  0.858034\n",
      "JNPR   0.174566 -0.285636 -0.323267 -0.238562 -0.527843  0.837247\n",
      "MGM    0.234014 -0.333435 -0.788904  0.187739 -0.033126  0.802297\n",
      "CTL    0.501084  0.672037  0.033722 -0.145377 -0.293075  0.791458\n",
      "AES    0.165348  0.049970 -0.869019  0.052021 -0.119121  0.788240\n",
      "DISCA  0.614961  0.725393  0.012358 -0.063428  0.118300  0.780128\n",
      "MAT    0.570848  0.653478  0.094809 -0.106437  0.021334  0.737857\n",
      "BBY    0.544305 -0.590810 -0.295824 -0.122952  0.095155  0.736947\n",
      "COP    0.583693  0.655704 -0.416858 -0.002366  0.074419  0.733207\n",
      "BHGE   0.227638  0.084281 -0.835495 -0.030621 -0.314264  0.728104\n",
      "PRGO   0.632175  0.672455  0.115291  0.235200 -0.071966  0.724998\n",
      "GPS    0.629342  0.667993 -0.085275  0.100357  0.227568  0.722265\n",
      "ETFC   0.493315 -0.525743 -0.580390  0.202545 -0.011488  0.715416\n",
      "SRCL   0.636523  0.647761  0.086933  0.283003 -0.123593  0.700966\n",
      "KSS    0.442986  0.502536 -0.124212  0.153749 -0.131926  0.700566\n",
      "M      0.658852  0.654285 -0.070000  0.293832 -0.036628  0.697077\n",
      "IBM    0.603950  0.614381  0.096909 -0.376437 -0.045802  0.687314\n",
      "NTAP   0.373957  0.340773 -0.089075 -0.643387 -0.304032  0.660909\n",
      "WYNN   0.605397  0.577662 -0.302017 -0.253522  0.166564  0.655182\n",
      "FLS    0.676543  0.604014 -0.263471 -0.005473  0.149747  0.644058\n",
      "NVDA   0.689059 -0.561500 -0.039524 -0.394727  0.171662  0.640788\n",
      "EQT    0.675240  0.585499 -0.278375  0.131709  0.131091  0.627963\n",
      "AAPL   0.953105  0.022358  0.141303 -0.084080 -0.008839  0.000000\n"
     ]
    }
   ],
   "source": [
    "from scipy.spatial import distance\n",
    "\n",
    "#pointA = corr2.loc[['AMZN'],['PCA1','PCA2']].values\n",
    "pointA = corr2.loc[[favor_stock],['PCA1','PCA2']].values\n",
    "print (\"pointA:\", pointA)\n",
    "dis_list = np.empty(shape=[0, 1])\n",
    "for i in (corr2.index):\n",
    "    pointB=corr2.loc[[i],['PCA1','PCA2']].values\n",
    "    dis1 = distance.euclidean(pointA, pointB)\n",
    "    dis_list = np.append(dis_list, dis1)\n",
    "    #print(\"dist: \", dis_list)\n",
    "corr3 = corr2.copy()\n",
    "corr3['Distance']=dis_list\n",
    "corr3.sort_values('Distance',ascending=False,inplace=True)\n",
    "corr4=corr3.head(50).append(corr3.loc[favor_stock])\n",
    "print(corr4)\n",
    "corr4.to_csv(os.path.join('data2','pca500-distance.csv'))"
   ]
  },
  {
   "cell_type": "code",
   "execution_count": null,
   "metadata": {},
   "outputs": [],
   "source": []
  },
  {
   "cell_type": "code",
   "execution_count": null,
   "metadata": {},
   "outputs": [],
   "source": []
  },
  {
   "cell_type": "code",
   "execution_count": null,
   "metadata": {},
   "outputs": [],
   "source": []
  }
 ],
 "metadata": {
  "kernelspec": {
   "display_name": "Python 3",
   "language": "python",
   "name": "python3"
  },
  "language_info": {
   "codemirror_mode": {
    "name": "ipython",
    "version": 3
   },
   "file_extension": ".py",
   "mimetype": "text/x-python",
   "name": "python",
   "nbconvert_exporter": "python",
   "pygments_lexer": "ipython3",
   "version": "3.6.2"
  }
 },
 "nbformat": 4,
 "nbformat_minor": 2
}
